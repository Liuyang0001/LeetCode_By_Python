{
 "cells": [
  {
   "cell_type": "markdown",
   "metadata": {},
   "source": [
    "## Python在刷题中的奇技"
   ]
  },
  {
   "cell_type": "code",
   "execution_count": null,
   "metadata": {},
   "outputs": [],
   "source": [
    "总结一些在刷LeetCode时，经常使用的一些小妙招(API)。\n",
    "\n",
    "(只是个小白，在不断完善自己对py的使用心得。)"
   ]
  },
  {
   "cell_type": "markdown",
   "metadata": {},
   "source": [
    "### 1.Lru_cache装饰器——加速缓存计算"
   ]
  },
  {
   "cell_type": "code",
   "execution_count": null,
   "metadata": {},
   "outputs": [],
   "source": [
    "不使用lru_cache的情况下进行菲波那切数列的计算，是相当缓慢的。"
   ]
  },
  {
   "cell_type": "code",
   "execution_count": 6,
   "metadata": {},
   "outputs": [
    {
     "output_type": "stream",
     "name": "stdout",
     "text": "9227465\nWall time: 3.07 s\n"
    }
   ],
   "source": [
    "%%time\n",
    "def fib(n):\n",
    "    return(1 if n in [1, 2] else fib(n-1)+fib(n-2))\n",
    "print(fib(35))"
   ]
  },
  {
   "cell_type": "markdown",
   "metadata": {},
   "source": [
    "而当你使用lru_cache装饰器，效果提升简直不要太明显。"
   ]
  },
  {
   "cell_type": "code",
   "execution_count": 7,
   "metadata": {},
   "outputs": [
    {
     "output_type": "stream",
     "name": "stdout",
     "text": "354224848179261915075\nWall time: 995 µs\n"
    }
   ],
   "source": [
    "%%time \n",
    "from functools import lru_cache\n",
    "@lru_cache(None)\n",
    "def fib(n):\n",
    "    return (1 if n in [1, 2] else fib(n-1)+fib(n-2))\n",
    "print(fib(100))"
   ]
  },
  {
   "cell_type": "markdown",
   "metadata": {},
   "source": [
    " 举个例子 LeetCode 97题：[交错字符串](https://leetcode-cn.com/problems/interleaving-string/description/)\n",
    "\n",
    "你在使用回溯算法的时候，如果不使用lru一定会超时，加上缓存之后便可以轻松AC。"
   ]
  },
  {
   "cell_type": "code",
   "execution_count": null,
   "metadata": {},
   "outputs": [],
   "source": [
    "class Solution:\n",
    "    def isInterleave(self, s1: str, s2: str, s3: str) -> bool:\n",
    "        n1, n2, n3 = len(s1), len(s2), len(s3)\n",
    "        if n1 + n2 != n3: return False\n",
    "        self.res = False\n",
    "        # 不加会报超时\n",
    "        @functools.lru_cache(None)\n",
    "        def helper(s1, s2, s3):\n",
    "            if not s3:\n",
    "                self.res = True\n",
    "                return\n",
    "            # print(s1, s2, s3)\n",
    "            if s1 and s1[0] == s3[0]:\n",
    "                helper(s1[1:], s2, s3[1:])\n",
    "            if s2 and s2[0] == s3[0]:\n",
    "                helper(s1, s2[1:], s3[1:])\n",
    "            return\n",
    "        helper(s1, s2, s3)\n",
    "        return self.res"
   ]
  },
  {
   "cell_type": "markdown",
   "metadata": {},
   "source": []
  },
  {
   "cell_type": "markdown",
   "metadata": {},
   "source": []
  },
  {
   "cell_type": "markdown",
   "metadata": {},
   "source": [
    "### 2.Counter()"
   ]
  },
  {
   "cell_type": "markdown",
   "metadata": {},
   "source": [
    "如果要问我用的最多api，那么Counter必须要拥有姓名。\n",
    "\n",
    "Counter的作用是对可迭代对象中的元素进行计数，返回一个Counter({key:value})类型。"
   ]
  },
  {
   "cell_type": "code",
   "execution_count": 11,
   "metadata": {},
   "outputs": [
    {
     "output_type": "execute_result",
     "data": {
      "text/plain": "Counter({1: 4, 2: 1, 3: 1, 4: 1, 5: 1})"
     },
     "metadata": {},
     "execution_count": 11
    }
   ],
   "source": [
    "from collections import Counter\n",
    "nums = [1,1,1,2,3,4,5,1]\n",
    "Counter(nums)"
   ]
  },
  {
   "cell_type": "markdown",
   "metadata": {},
   "source": [
    "举个例子：LeetCode 242题 [有效的字母异位词](https://leetcode-cn.com/problems/valid-anagram/description/)\n",
    "\n",
    "给定两个字符串 s 和 t ，编写一个函数来判断 t 是否是 s 的字母异位词。"
   ]
  },
  {
   "cell_type": "markdown",
   "metadata": {},
   "source": [
    "使用Counter一行就可以搞定了。"
   ]
  },
  {
   "cell_type": "code",
   "execution_count": null,
   "metadata": {},
   "outputs": [],
   "source": [
    "class Solution:\n",
    "    def isAnagram(self, s: str, t: str) -> bool:\n",
    "        return Counter(s)==Counter(t)"
   ]
  },
  {
   "cell_type": "markdown",
   "metadata": {},
   "source": []
  },
  {
   "cell_type": "markdown",
   "metadata": {},
   "source": []
  },
  {
   "cell_type": "markdown",
   "metadata": {},
   "source": [
    "### 3.二分模块 bisect"
   ]
  },
  {
   "cell_type": "markdown",
   "metadata": {},
   "source": [
    "很多时候自己去写一个二分法是很浪费时间的事情，在*有序序列*的情况下，直接调库是更好地选择"
   ]
  },
  {
   "cell_type": "code",
   "execution_count": 18,
   "metadata": {},
   "outputs": [],
   "source": [
    "import bisect\n",
    "nums = [1,2,3,4]"
   ]
  },
  {
   "cell_type": "markdown",
   "metadata": {},
   "source": [
    "bisect(_left/right)可以用来在一个有序序列中，找到要插入位置的索引."
   ]
  },
  {
   "cell_type": "code",
   "execution_count": 19,
   "metadata": {},
   "outputs": [
    {
     "output_type": "execute_result",
     "data": {
      "text/plain": "2"
     },
     "metadata": {},
     "execution_count": 19
    }
   ],
   "source": [
    "# bisect.bisect(nums,3) # 默认是插入相同元素的后面\n",
    "bisect.bisect_left(nums,3)"
   ]
  },
  {
   "cell_type": "markdown",
   "metadata": {},
   "source": [
    "insort(_left/right)则是找到位置直接插入。"
   ]
  },
  {
   "cell_type": "code",
   "execution_count": 23,
   "metadata": {},
   "outputs": [
    {
     "output_type": "execute_result",
     "data": {
      "text/plain": "[1, 2, 2, 2, 3, 4]"
     },
     "metadata": {},
     "execution_count": 23
    }
   ],
   "source": [
    "bisect.insort(nums,2)\n",
    "nums"
   ]
  },
  {
   "cell_type": "markdown",
   "metadata": {},
   "source": [
    "举个例子: 315 [计算右侧小于当前元素的个数](https://leetcode-cn.com/problems/count-of-smaller-numbers-after-self/)\n",
    "\n",
    "给定一个整数数组 nums，按要求返回一个新数组 counts。\n",
    "\n",
    "数组 counts 有该性质： `counts[i]` 的值是  `nums[i]` 右侧小于 `nums[i]` 的元素的数量。"
   ]
  },
  {
   "cell_type": "code",
   "execution_count": null,
   "metadata": {},
   "outputs": [],
   "source": [
    "class Solution:\n",
    "    def countSmaller(self, nums: List[int]) -> List[int]:\n",
    "        q = [] # 存储和排序已经遍历过得元素\n",
    "        res = []\n",
    "        # 从后向前遍历，二分法查找\n",
    "        for num in nums[::-1]:\n",
    "            i = bisect.bisect_left(q,num)\n",
    "            res.insert(0,i) # 结果也从后向前添加\n",
    "            q.insert(i,num)\n",
    "        return res"
   ]
  },
  {
   "cell_type": "markdown",
   "metadata": {},
   "source": []
  },
  {
   "cell_type": "markdown",
   "metadata": {},
   "source": []
  },
  {
   "cell_type": "markdown",
   "metadata": {},
   "source": [
    "### 4.defaultdict()"
   ]
  },
  {
   "cell_type": "markdown",
   "metadata": {},
   "source": [
    "默认的dict不是不能用，只是很多时候没有直接使用defaultdict来的方便。"
   ]
  },
  {
   "cell_type": "markdown",
   "metadata": {},
   "source": [
    "举个例子：217. [存在重复元素](https://leetcode-cn.com/problems/contains-duplicate/description/)\n",
    "\n",
    "给定一个整数数组，判断是否存在重复元素。\n",
    "\n",
    "如果任意一值在数组中出现至少两次，函数返回 true 。如果数组中每个元素都不相同，则返回 false 。"
   ]
  },
  {
   "cell_type": "code",
   "execution_count": null,
   "metadata": {},
   "outputs": [],
   "source": [
    "from collections import defaultdict\n",
    "class Solution:\n",
    "    def containsDuplicate(self, nums: List[int]) -> bool:\n",
    "        dic = defaultdict(int)\n",
    "        for i in nums:\n",
    "            dic[i] += 1\n",
    "            if dic[i] == 2: return True\n",
    "        return False"
   ]
  },
  {
   "cell_type": "markdown",
   "metadata": {},
   "source": [
    "这里如果不使用defaultdict，就要使用`dic.get(key,0)==0`来判断是否存在，\n",
    "\n",
    "或者另个可行的办法是使用`dic.setdefault(key,0)`,都不如`defaultdict`来的方便。"
   ]
  },
  {
   "cell_type": "markdown",
   "metadata": {},
   "source": []
  },
  {
   "cell_type": "markdown",
   "metadata": {},
   "source": []
  },
  {
   "cell_type": "markdown",
   "metadata": {},
   "source": [
    "### 5.OderedDict()"
   ]
  },
  {
   "cell_type": "markdown",
   "metadata": {},
   "source": [
    "用来实现一个有序的字典，其实在py现有的版本中，字典已经是有序的了,那么为什么还需要ordereddict呢？\n",
    "\n",
    "dict的有序是指每次插入键值对都会加入到字典的尾端，但是popitem()只能在尾端弹出，\n",
    "\n",
    "而有时我们需要它在头部弹出，实现一个队列的效果——FIFO。"
   ]
  },
  {
   "cell_type": "code",
   "execution_count": 1,
   "metadata": {},
   "outputs": [],
   "source": [
    "from collections import OrderedDict\n",
    "d = {1:1,2:2,3:3}\n",
    "od = OrderedDict(d)\n"
   ]
  },
  {
   "cell_type": "code",
   "execution_count": 4,
   "metadata": {},
   "outputs": [
    {
     "output_type": "execute_result",
     "data": {
      "text/plain": "(1, 1)"
     },
     "metadata": {},
     "execution_count": 4
    }
   ],
   "source": [
    "# 从首部弹出键值对\n",
    "od.popitem(last=False)"
   ]
  },
  {
   "cell_type": "markdown",
   "metadata": {},
   "source": []
  },
  {
   "cell_type": "markdown",
   "metadata": {},
   "source": []
  },
  {
   "cell_type": "markdown",
   "metadata": {},
   "source": [
    "### 6.product——（多个对象）的组合"
   ]
  },
  {
   "cell_type": "markdown",
   "metadata": {},
   "source": [
    "从每个可迭代对象中分别取一个，返回所有可能的迭代器。"
   ]
  },
  {
   "cell_type": "code",
   "execution_count": 8,
   "metadata": {},
   "outputs": [
    {
     "output_type": "execute_result",
     "data": {
      "text/plain": "[(1, 2, 2),\n (1, 2, 4),\n (1, 2, 1),\n (1, 4, 2),\n (1, 4, 4),\n (1, 4, 1),\n (1, 1, 2),\n (1, 1, 4),\n (1, 1, 1),\n (1, 2, 2),\n (1, 2, 4),\n (1, 2, 1),\n (1, 4, 2),\n (1, 4, 4),\n (1, 4, 1),\n (1, 1, 2),\n (1, 1, 4),\n (1, 1, 1)]"
     },
     "metadata": {},
     "execution_count": 8
    }
   ],
   "source": [
    "from itertools import product\n",
    "nums1 = [1,1]\n",
    "nums2 = [2,4,1]\n",
    "# product()\n",
    "list(product(nums1, nums2, nums2))"
   ]
  },
  {
   "cell_type": "markdown",
   "metadata": {},
   "source": [
    "举个例子 373.[查找和最小的K对数字](https://leetcode-cn.com/problems/find-k-pairs-with-smallest-sums/)\n",
    "\n",
    "给定两个以升序排列的整形数组 nums1 和 nums2, 以及一个整数 k。\n",
    "\n",
    "定义一对值 (u,v)，其中第一个元素来自 nums1，第二个元素来自 nums2。\n",
    "\n",
    "找到和最小的 k 对数字 (u1,v1), (u2,v2) ... (uk,vk)。"
   ]
  },
  {
   "cell_type": "code",
   "execution_count": null,
   "metadata": {},
   "outputs": [],
   "source": [
    "# 暴力枚举，排序取前k个\n",
    "def kSmallestPairs(self, nums1, nums2, k):\n",
    "    return sorted(itertools.product(nums1, nums2), key=sum)[:k]"
   ]
  },
  {
   "cell_type": "markdown",
   "metadata": {},
   "source": []
  },
  {
   "cell_type": "markdown",
   "metadata": {},
   "source": []
  },
  {
   "cell_type": "markdown",
   "metadata": {},
   "source": [
    "### 7.permutations——（单个对象）重新组合"
   ]
  },
  {
   "cell_type": "markdown",
   "metadata": {},
   "source": [
    "对可迭代对象的顺序重新组合，返回一个迭代器。"
   ]
  },
  {
   "cell_type": "code",
   "execution_count": 9,
   "metadata": {},
   "outputs": [
    {
     "output_type": "stream",
     "name": "stdout",
     "text": "[(3, 2, 0), (3, 0, 2), (2, 3, 0), (2, 0, 3), (0, 3, 2), (0, 2, 3)]\n"
    }
   ],
   "source": [
    "from itertools import permutations\n",
    "citations = [3, 2, 0]\n",
    "c = permutations(citations,len(citations))\n",
    "print(list(c))\n",
    "# citations"
   ]
  },
  {
   "cell_type": "code",
   "execution_count": null,
   "metadata": {},
   "outputs": [],
   "source": []
  }
 ],
 "metadata": {
  "language_info": {
   "codemirror_mode": {
    "name": "ipython",
    "version": 3
   },
   "file_extension": ".py",
   "mimetype": "text/x-python",
   "name": "python",
   "nbconvert_exporter": "python",
   "pygments_lexer": "ipython3",
   "version": "3.5.2-final"
  },
  "orig_nbformat": 2,
  "kernelspec": {
   "name": "python35264bit0f77f0bdeac04792a7ae8ce9f7bbbff2",
   "display_name": "Python 3.5.2 64-bit"
  }
 },
 "nbformat": 4,
 "nbformat_minor": 2
}